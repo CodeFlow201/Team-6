{
  "nbformat": 4,
  "nbformat_minor": 0,
  "metadata": {
    "colab": {
      "name": "data visualizing.ipynb",
      "provenance": [],
      "collapsed_sections": []
    },
    "kernelspec": {
      "name": "python3",
      "display_name": "Python 3"
    },
    "language_info": {
      "name": "python"
    }
  },
  "cells": [
    {
      "cell_type": "code",
      "metadata": {
        "id": "QGwLHIT6SopH"
      },
      "source": [
        "import pandas as pd\n",
        "import numpy as np\n",
        "import matplotlib.pyplot as plt\n",
        "import seaborn as sns"
      ],
      "execution_count": 1,
      "outputs": []
    },
    {
      "cell_type": "code",
      "metadata": {
        "id": "SW8pf6sqS77g"
      },
      "source": [
        "data = pd.read_csv(\"data.csv\")"
      ],
      "execution_count": 2,
      "outputs": []
    },
    {
      "cell_type": "code",
      "metadata": {
        "colab": {
          "base_uri": "https://localhost:8080/",
          "height": 80
        },
        "id": "iTxb9ESmTJLf",
        "outputId": "df21404d-4179-481f-8858-94b63667f9d1"
      },
      "source": [
        "data.head(1)"
      ],
      "execution_count": 3,
      "outputs": [
        {
          "output_type": "execute_result",
          "data": {
            "text/html": [
              "<div>\n",
              "<style scoped>\n",
              "    .dataframe tbody tr th:only-of-type {\n",
              "        vertical-align: middle;\n",
              "    }\n",
              "\n",
              "    .dataframe tbody tr th {\n",
              "        vertical-align: top;\n",
              "    }\n",
              "\n",
              "    .dataframe thead th {\n",
              "        text-align: right;\n",
              "    }\n",
              "</style>\n",
              "<table border=\"1\" class=\"dataframe\">\n",
              "  <thead>\n",
              "    <tr style=\"text-align: right;\">\n",
              "      <th></th>\n",
              "      <th>Date</th>\n",
              "      <th>Open</th>\n",
              "      <th>High</th>\n",
              "      <th>Low</th>\n",
              "      <th>Close</th>\n",
              "      <th>Adj Close</th>\n",
              "      <th>Volume</th>\n",
              "    </tr>\n",
              "  </thead>\n",
              "  <tbody>\n",
              "    <tr>\n",
              "      <th>0</th>\n",
              "      <td>2020-10-09</td>\n",
              "      <td>115.279999</td>\n",
              "      <td>117.0</td>\n",
              "      <td>114.919998</td>\n",
              "      <td>116.970001</td>\n",
              "      <td>116.222481</td>\n",
              "      <td>100506900</td>\n",
              "    </tr>\n",
              "  </tbody>\n",
              "</table>\n",
              "</div>"
            ],
            "text/plain": [
              "         Date        Open   High         Low       Close   Adj Close     Volume\n",
              "0  2020-10-09  115.279999  117.0  114.919998  116.970001  116.222481  100506900"
            ]
          },
          "metadata": {},
          "execution_count": 3
        }
      ]
    },
    {
      "cell_type": "markdown",
      "metadata": {
        "id": "Ic7IANH6cEWC"
      },
      "source": [
        "##Summary"
      ]
    },
    {
      "cell_type": "code",
      "metadata": {
        "colab": {
          "base_uri": "https://localhost:8080/"
        },
        "id": "TmUsHEL2TKoQ",
        "outputId": "51473654-d47e-4fb9-99b9-b6e0bb320126"
      },
      "source": [
        "data.info()"
      ],
      "execution_count": 4,
      "outputs": [
        {
          "output_type": "stream",
          "name": "stdout",
          "text": [
            "<class 'pandas.core.frame.DataFrame'>\n",
            "RangeIndex: 252 entries, 0 to 251\n",
            "Data columns (total 7 columns):\n",
            " #   Column     Non-Null Count  Dtype  \n",
            "---  ------     --------------  -----  \n",
            " 0   Date       252 non-null    object \n",
            " 1   Open       252 non-null    float64\n",
            " 2   High       252 non-null    float64\n",
            " 3   Low        252 non-null    float64\n",
            " 4   Close      252 non-null    float64\n",
            " 5   Adj Close  252 non-null    float64\n",
            " 6   Volume     252 non-null    int64  \n",
            "dtypes: float64(5), int64(1), object(1)\n",
            "memory usage: 13.9+ KB\n"
          ]
        }
      ]
    },
    {
      "cell_type": "code",
      "metadata": {
        "colab": {
          "base_uri": "https://localhost:8080/",
          "height": 295
        },
        "id": "w2aGpCM2TNH1",
        "outputId": "c49ee19f-0825-4cda-e78c-430ac31ca061"
      },
      "source": [
        "data.describe()"
      ],
      "execution_count": 5,
      "outputs": [
        {
          "output_type": "execute_result",
          "data": {
            "text/html": [
              "<div>\n",
              "<style scoped>\n",
              "    .dataframe tbody tr th:only-of-type {\n",
              "        vertical-align: middle;\n",
              "    }\n",
              "\n",
              "    .dataframe tbody tr th {\n",
              "        vertical-align: top;\n",
              "    }\n",
              "\n",
              "    .dataframe thead th {\n",
              "        text-align: right;\n",
              "    }\n",
              "</style>\n",
              "<table border=\"1\" class=\"dataframe\">\n",
              "  <thead>\n",
              "    <tr style=\"text-align: right;\">\n",
              "      <th></th>\n",
              "      <th>Open</th>\n",
              "      <th>High</th>\n",
              "      <th>Low</th>\n",
              "      <th>Close</th>\n",
              "      <th>Adj Close</th>\n",
              "      <th>Volume</th>\n",
              "    </tr>\n",
              "  </thead>\n",
              "  <tbody>\n",
              "    <tr>\n",
              "      <th>count</th>\n",
              "      <td>252.000000</td>\n",
              "      <td>252.000000</td>\n",
              "      <td>252.000000</td>\n",
              "      <td>252.000000</td>\n",
              "      <td>252.000000</td>\n",
              "      <td>2.520000e+02</td>\n",
              "    </tr>\n",
              "    <tr>\n",
              "      <th>mean</th>\n",
              "      <td>132.047382</td>\n",
              "      <td>133.423691</td>\n",
              "      <td>130.605714</td>\n",
              "      <td>132.041746</td>\n",
              "      <td>131.686555</td>\n",
              "      <td>9.610568e+07</td>\n",
              "    </tr>\n",
              "    <tr>\n",
              "      <th>std</th>\n",
              "      <td>11.046097</td>\n",
              "      <td>10.968939</td>\n",
              "      <td>11.075379</td>\n",
              "      <td>11.057846</td>\n",
              "      <td>11.222588</td>\n",
              "      <td>3.247330e+07</td>\n",
              "    </tr>\n",
              "    <tr>\n",
              "      <th>min</th>\n",
              "      <td>109.110001</td>\n",
              "      <td>110.680000</td>\n",
              "      <td>107.320000</td>\n",
              "      <td>108.769997</td>\n",
              "      <td>108.074883</td>\n",
              "      <td>4.639770e+07</td>\n",
              "    </tr>\n",
              "    <tr>\n",
              "      <th>25%</th>\n",
              "      <td>123.475000</td>\n",
              "      <td>124.849998</td>\n",
              "      <td>121.764997</td>\n",
              "      <td>123.199999</td>\n",
              "      <td>122.649681</td>\n",
              "      <td>7.455655e+07</td>\n",
              "    </tr>\n",
              "    <tr>\n",
              "      <th>50%</th>\n",
              "      <td>130.334999</td>\n",
              "      <td>131.685005</td>\n",
              "      <td>129.005005</td>\n",
              "      <td>130.864997</td>\n",
              "      <td>130.296272</td>\n",
              "      <td>8.991345e+07</td>\n",
              "    </tr>\n",
              "    <tr>\n",
              "      <th>75%</th>\n",
              "      <td>142.827499</td>\n",
              "      <td>144.189995</td>\n",
              "      <td>140.819999</td>\n",
              "      <td>142.499996</td>\n",
              "      <td>142.240574</td>\n",
              "      <td>1.116616e+08</td>\n",
              "    </tr>\n",
              "    <tr>\n",
              "      <th>max</th>\n",
              "      <td>156.979996</td>\n",
              "      <td>157.259995</td>\n",
              "      <td>154.389999</td>\n",
              "      <td>156.690002</td>\n",
              "      <td>156.690002</td>\n",
              "      <td>2.623305e+08</td>\n",
              "    </tr>\n",
              "  </tbody>\n",
              "</table>\n",
              "</div>"
            ],
            "text/plain": [
              "             Open        High         Low       Close   Adj Close        Volume\n",
              "count  252.000000  252.000000  252.000000  252.000000  252.000000  2.520000e+02\n",
              "mean   132.047382  133.423691  130.605714  132.041746  131.686555  9.610568e+07\n",
              "std     11.046097   10.968939   11.075379   11.057846   11.222588  3.247330e+07\n",
              "min    109.110001  110.680000  107.320000  108.769997  108.074883  4.639770e+07\n",
              "25%    123.475000  124.849998  121.764997  123.199999  122.649681  7.455655e+07\n",
              "50%    130.334999  131.685005  129.005005  130.864997  130.296272  8.991345e+07\n",
              "75%    142.827499  144.189995  140.819999  142.499996  142.240574  1.116616e+08\n",
              "max    156.979996  157.259995  154.389999  156.690002  156.690002  2.623305e+08"
            ]
          },
          "metadata": {},
          "execution_count": 5
        }
      ]
    },
    {
      "cell_type": "code",
      "metadata": {
        "id": "C-wteainT9-X"
      },
      "source": [
        "df = data.copy()\n",
        "df = df.iloc[:,1:]"
      ],
      "execution_count": 10,
      "outputs": []
    },
    {
      "cell_type": "markdown",
      "metadata": {
        "id": "soG6IwQZb7T2"
      },
      "source": [
        "##Histogram"
      ]
    },
    {
      "cell_type": "code",
      "metadata": {
        "colab": {
          "base_uri": "https://localhost:8080/"
        },
        "id": "okXiPDHNU69z",
        "outputId": "2d70cd86-b0da-4077-d7bb-cd38e40aac24"
      },
      "source": [
        "columns = df.columns.values\n",
        "len(columns)//3 +1"
      ],
      "execution_count": 19,
      "outputs": [
        {
          "output_type": "execute_result",
          "data": {
            "text/plain": [
              "3"
            ]
          },
          "metadata": {},
          "execution_count": 19
        }
      ]
    },
    {
      "cell_type": "code",
      "metadata": {
        "colab": {
          "base_uri": "https://localhost:8080/",
          "height": 775
        },
        "id": "ntETccAaTQc8",
        "outputId": "e68ae424-b559-4e6b-f7a1-7a9e0ce77589"
      },
      "source": [
        "columns = df.columns.values\n",
        "# Calculating required amount of rows to display all feature plots\n",
        "cols = 3\n",
        "rows = len(columns) // cols + 1\n",
        "\n",
        "fig, axs = plt.subplots(ncols=cols, nrows=rows, figsize=(16,20), sharex=False)\n",
        "\n",
        "# Adding some distance between plots\n",
        "plt.subplots_adjust(hspace = 0.3)\n",
        "\n",
        "# Plots counter\n",
        "i=0\n",
        "for r in np.arange(0, rows, 1):\n",
        "    for c in np.arange(0, cols, 1):\n",
        "        if i >= len(columns): # If there is no more data columns to make plots from\n",
        "            axs[r, c].set_visible(False) # Hiding axes so there will be clean background\n",
        "        else:\n",
        "            # Train data histogram\n",
        "            hist1 = axs[r, c].hist(df[columns[i]].values,\n",
        "                                   range=(df[columns[i]].min(),\n",
        "                                          df[columns[i]].max()),\n",
        "                                   bins=40,\n",
        "                                   color=\"deepskyblue\",\n",
        "                                   edgecolor=\"black\",\n",
        "                                   alpha=0.7,\n",
        "                                   label=\"Train Dataset\")\n",
        "            axs[r, c].set_title(columns[i], fontsize=14, pad=5)\n",
        "            axs[r, c].tick_params(axis=\"y\", labelsize=13)\n",
        "            axs[r, c].tick_params(axis=\"x\", labelsize=13)\n",
        "            axs[r, c].grid(axis=\"y\")\n",
        "            i+=1\n",
        "            "
      ],
      "execution_count": 32,
      "outputs": [
        {
          "output_type": "display_data",
          "data": {
            "image/png": "[encoded data removed]",
            "text/plain": [
              "<Figure size 1152x1440 with 9 Axes>"
            ]
          },
          "metadata": {
            "needs_background": "light"
          }
        }
      ]
    },
    {
      "cell_type": "markdown",
      "metadata": {
        "id": "Xx97-0n2b28p"
      },
      "source": [
        "##Box Plot"
      ]
    },
    {
      "cell_type": "code",
      "metadata": {
        "colab": {
          "base_uri": "https://localhost:8080/",
          "height": 282
        },
        "id": "HF2j0VR-ZWl2",
        "outputId": "e6de2c0a-0703-4197-c832-1b7ae5b85dd8"
      },
      "source": [
        "data[['Open','High','Low','Close','Adj Close']].plot(kind='box')"
      ],
      "execution_count": 41,
      "outputs": [
        {
          "output_type": "execute_result",
          "data": {
            "text/plain": [
              "<matplotlib.axes._subplots.AxesSubplot at 0x7fa289b97150>"
            ]
          },
          "metadata": {},
          "execution_count": 41
        },
        {
          "output_type": "display_data",
          "data": {
            "image/png": "[encoded data removed]",
            "text/plain": [
              "<Figure size 432x288 with 1 Axes>"
            ]
          },
          "metadata": {
            "needs_background": "light"
          }
        }
      ]
    },
    {
      "cell_type": "markdown",
      "metadata": {
        "id": "yaHHMlb4b0wp"
      },
      "source": [
        "##Heat Map"
      ]
    },
    {
      "cell_type": "code",
      "metadata": {
        "colab": {
          "base_uri": "https://localhost:8080/",
          "height": 865
        },
        "id": "efuggkJZUCDl",
        "outputId": "b2406976-b5b7-48e1-ce9f-e0bf1793e3e2"
      },
      "source": [
        "# Calculatin correlation values\n",
        "df = df.corr().round(2)\n",
        "\n",
        "# Mask to hide upper-right part of plot as it is a duplicate\n",
        "mask = np.zeros_like(df)\n",
        "mask[np.triu_indices_from(mask)] = True\n",
        "\n",
        "# Making a plot\n",
        "plt.figure(figsize=(14,14))\n",
        "ax = sns.heatmap(df, annot=True, mask=mask, cmap=\"RdBu\", annot_kws={\"weight\": \"normal\", \"fontsize\":9})\n",
        "ax.set_title(\"Feature correlation heatmap\", fontsize=17)\n",
        "plt.setp(ax.get_xticklabels(), rotation=90, ha=\"right\",\n",
        "         rotation_mode=\"anchor\", weight=\"normal\")\n",
        "plt.setp(ax.get_yticklabels(), weight=\"normal\",\n",
        "         rotation_mode=\"anchor\", rotation=0, ha=\"right\")\n",
        "plt.show();"
      ],
      "execution_count": 38,
      "outputs": [
        {
          "output_type": "display_data",
          "data": {
            "image/png": "[encoded data removed]",
            "text/plain": [
              "<Figure size 1008x1008 with 2 Axes>"
            ]
          },
          "metadata": {
            "needs_background": "light"
          }
        }
      ]
    },
    {
      "cell_type": "code",
      "metadata": {
        "id": "av6QCg0VXS5u"
      },
      "source": [
        ""
      ],
      "execution_count": null,
      "outputs": []
    }
  ]
}
